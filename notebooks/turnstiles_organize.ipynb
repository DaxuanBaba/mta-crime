{
 "cells": [
  {
   "cell_type": "code",
   "execution_count": null,
   "metadata": {},
   "outputs": [],
   "source": []
  },
  {
   "cell_type": "markdown",
   "metadata": {},
   "source": [
    "## IMPORT PANDAS AND OPEN ADN CROSS WALK TABLES"
   ]
  },
  {
   "cell_type": "code",
   "execution_count": null,
   "metadata": {},
   "outputs": [],
   "source": [
    "import pandas as pd\n",
    "from datetime import datetime, timedelta\n",
    "import re\n",
    "## set the display max to max\n",
    "pd.set_option('display.max_rows', None)\n",
    "\n",
    "# opening the crosswalk table\n",
    "new_cross = pd.read_csv('new_crosswalk.csv')\n",
    "ridership_crosswalk = pd.read_csv('ridership_stationID.csv')"
   ]
  },
  {
   "cell_type": "markdown",
   "metadata": {},
   "source": [
    "## Reading the data"
   ]
  },
  {
   "cell_type": "code",
   "execution_count": null,
   "metadata": {},
   "outputs": [],
   "source": [
    "turnstiles_filename = '2019/Turnstiles_each_2019.csv'\n",
    "turnstiles = pd.read_csv(turnstiles_filename)\n",
    "#####################\n",
    "turnstiles.columns.values"
   ]
  },
  {
   "cell_type": "markdown",
   "metadata": {},
   "source": [
    "## Reading the data"
   ]
  },
  {
   "cell_type": "code",
   "execution_count": null,
   "metadata": {},
   "outputs": [],
   "source": [
    "time_counts = turnstiles['Time'].value_counts().count()\n",
    "# alot of differnt times even in the middle of the 4 hour intervals so not all times are in whole hours order\n",
    "# some are in between hours, minutes nad even seconds ex. 16:22:00 23:30:00, 11:14:43"
   ]
  },
  {
   "cell_type": "code",
   "execution_count": null,
   "metadata": {},
   "outputs": [],
   "source": [
    "turnstiles.info()"
   ]
  },
  {
   "cell_type": "markdown",
   "metadata": {},
   "source": [
    "## assigning data type 'datetime' with formats to column 'Date'  for later use\n",
    "## fix the error and column naming 'Exits'"
   ]
  },
  {
   "cell_type": "code",
   "execution_count": null,
   "metadata": {},
   "outputs": [],
   "source": [
    "# chang column 'Date' type to datetime format to compare it easier later\n",
    "turnstiles['Date'] = pd.to_datetime(turnstiles['Date'], format = '%m/%d/%Y') \n",
    "#  found problem with the column 'Exists ' having too many trailling space so to rename it\n",
    "turnstiles.rename(columns={'Exits                                                     ':'EXITS'}, inplace=True)\n",
    "turnstiles.columns.values # check if fixed"
   ]
  },
  {
   "cell_type": "code",
   "execution_count": null,
   "metadata": {},
   "outputs": [],
   "source": [
    "# get only dates within the desired year\n",
    "turnstiles = turnstiles.loc[(pd.to_datetime(turnstiles['Date'], format='%m/%d/%Y') >= pd.to_datetime('01/31/2022', format='%m/%d/%Y'))& (pd.to_datetime(turnstiles['Date'], format='%m/%d/%Y') <= pd.to_datetime(date_up_limit, format='%m/%d/%Y'))]\n"
   ]
  },
  {
   "cell_type": "markdown",
   "metadata": {},
   "source": [
    "## checking and save missing dates within the year"
   ]
  },
  {
   "cell_type": "code",
   "execution_count": null,
   "metadata": {},
   "outputs": [],
   "source": [
    "# funciton to get all days in a year\n",
    "def get_all_dates_in_year(year):\n",
    "    start_date = datetime(year, 1, 1)\n",
    "    end_date = datetime(year, 12, 31)\n",
    "    delta = timedelta(days=1)\n",
    "    all_dates = []\n",
    "\n",
    "    current_date = start_date\n",
    "    while current_date <= end_date:\n",
    "        all_dates.append(current_date)\n",
    "        current_date += delta\n",
    "\n",
    "    return all_dates\n",
    "\n",
    "\n",
    "# Get all dates in the year and store in a dataframe\n",
    "dates_list = get_all_dates_in_year(year)\n",
    "dates_df = pd.DataFrame(dates_list, columns=['Date'])\n",
    "\n",
    "\n",
    "## Get unique values from 'Date' column\n",
    "# change 'turnstiles' to the dataframe\n",
    "dates_in_data = turnstiles['Date'].unique()\n",
    "\n",
    "dates_in_data = pd.DataFrame({'Date': list(dates_in_data)})\n",
    "\n",
    "dates_difference = dates_df.loc[~dates_df['Date'].isin(dates_in_data['Date']), 'Date']\n",
    "dates_difference = pd.DataFrame(columns= ['Missing Dates'])\n",
    "dates_difference['Missing Dates'] = dates_df.loc[~dates_df['Date'].isin(dates_in_data['Date']), 'Date']\n",
    "\n",
    "#sort the dates and save it\n",
    "#dates_difference.sort_values(['Missing Dates'], ascending= True , inplace=True)\n",
    "#dates_difference.reset_index(drop = True, inplace = True)\n",
    "#dates_difference.to_csv(missing_dates_fn, index = False)"
   ]
  },
  {
   "cell_type": "markdown",
   "metadata": {},
   "source": [
    "## assigning the corresponding station complex ID to each row"
   ]
  },
  {
   "cell_type": "code",
   "execution_count": null,
   "metadata": {},
   "outputs": [],
   "source": [
    "#Create special name to use crosswalk table\n",
    "# creating a new column \"unique_ID\" based on the station, line name and division\n",
    "turnstiles[\"unique_ID\"] = turnstiles[[\"Station\", \"Line Name\", \"Division\"]].apply(\"-\".join, axis=1)\n",
    "\n",
    "#merges the two tables\n",
    "turnstiles = pd.merge(turnstiles, new_cross, on='unique_ID', how=\"left\")\n"
   ]
  },
  {
   "cell_type": "markdown",
   "metadata": {},
   "source": [
    "## dropping null values in the station_complex_id column"
   ]
  },
  {
   "cell_type": "code",
   "execution_count": null,
   "metadata": {},
   "outputs": [],
   "source": [
    "## dropping all rows with 'null' value in 'MTA Station ID' column\n",
    "nulIndex = turnstiles[turnstiles['station_complex_id'].isnull()].index\n",
    "turnstiles.drop(nulIndex , inplace=True)\n"
   ]
  },
  {
   "cell_type": "code",
   "execution_count": null,
   "metadata": {},
   "outputs": [],
   "source": [
    "# using the created crosswalk table to add geograpic info\n",
    "turnstiles = pd.merge(turnstiles, new_cross, on='unique_ID', how=\"left\")\n"
   ]
  },
  {
   "cell_type": "markdown",
   "metadata": {},
   "source": [
    "##  'TURNSTILES' ridership counts every 4hrs by subtracting the sorted previous row"
   ]
  },
  {
   "cell_type": "code",
   "execution_count": null,
   "metadata": {},
   "outputs": [],
   "source": [
    "## getting net entries and net exist method \n",
    "\n",
    "# 1. sort the rows by their unique turnstiles and data, abnd time in ascending order\n",
    "\n",
    "turnstiles_4h = turnstiles[['station_complex_id', 'unique_ID', 'C/A','Unit','SCP','Date', 'Time', 'Entries', 'EXITS']].copy()\n",
    "turnstiles_4h.sort_values(['C/A','Unit','SCP','Date', 'Time'], ascending= True , inplace=True)\n",
    "turnstiles_4h.reset_index(drop = True, inplace = True)\n",
    "\n",
    "# # 2. subtract every 4 hours (subtract from the previous row)\n",
    "net_entries = turnstiles_4h.Entries - turnstiles_4h.Entries.shift(1)\n",
    "turnstiles_4h['net_entries'] = net_entries.fillna(0).astype(int)\n",
    "\n",
    "net_exits = turnstiles_4h.EXITS - turnstiles_4h.EXITS.shift(1)\n",
    "turnstiles_4h['net_exits'] = net_exits.fillna(0).astype(int)\n",
    "\n",
    "# Eliminating extreme values and sort \n",
    "turnstiles_4h = turnstiles_4h[(turnstiles_4h.net_entries < 20000) & (turnstiles_4h.net_entries >= 0) & (turnstiles_4h.net_exits < 10000) &  (turnstiles_4h.net_exits >= 0)]\n",
    "turnstiles_4h = turnstiles_4h.loc[turnstiles_4h['Date'] != date_low_limit ]\n",
    "turnstiles_4h.sort_values(['C/A','Unit','SCP','Date', 'Time'], ascending= True , inplace=True)\n",
    "\n",
    "## saving the result to a csv file\n",
    "turnstiles_4h.to_csv(turnstile_each_filename, index = False)\n"
   ]
  },
  {
   "cell_type": "markdown",
   "metadata": {},
   "source": [
    "## total combined all stations 'TURNSTILES' riderships counts for each day"
   ]
  },
  {
   "cell_type": "code",
   "execution_count": null,
   "metadata": {},
   "outputs": [],
   "source": [
    "##  total by daily\n",
    "turnstiles_daily = turnstiles_4h.groupby(['Date'])[['net_entries', 'net_exits']].sum().reset_index()\n",
    "turnstiles_daily.sort_values(['Date'], ascending= True , inplace=True)\n",
    "\n",
    "daily_sorted_entries = turnstiles_daily.sort_values(['net_entries'], ascending= False)\n",
    "turnstiles_daily.rename(columns={'net_entries':'ridership'}, inplace=True)\n",
    "#turnstiles_daily.to_csv(turnstiles_daily_fn, index = False)"
   ]
  },
  {
   "cell_type": "code",
   "execution_count": null,
   "metadata": {},
   "outputs": [],
   "source": []
  }
 ],
 "metadata": {
  "kernelspec": {
   "display_name": "Python 3",
   "language": "python",
   "name": "python3"
  },
  "language_info": {
   "codemirror_mode": {
    "name": "ipython",
    "version": 3
   },
   "file_extension": ".py",
   "mimetype": "text/x-python",
   "name": "python",
   "nbconvert_exporter": "python",
   "pygments_lexer": "ipython3",
   "version": "3.12.2"
  }
 },
 "nbformat": 4,
 "nbformat_minor": 2
}
